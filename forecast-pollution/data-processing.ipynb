{
 "cells": [
  {
   "cell_type": "markdown",
   "id": "b7654450552337d7",
   "metadata": {
    "collapsed": false
   },
   "source": [
    "# Imports"
   ]
  },
  {
   "cell_type": "code",
   "execution_count": 5,
   "id": "initial_id",
   "metadata": {
    "ExecuteTime": {
     "end_time": "2024-01-16T08:18:32.241649Z",
     "start_time": "2024-01-16T08:18:31.390557600Z"
    },
    "collapsed": true
   },
   "outputs": [],
   "source": [
    "import datetime \n",
    "import pandas as pd"
   ]
  },
  {
   "cell_type": "markdown",
   "id": "d84d2ca203f615b2",
   "metadata": {
    "collapsed": false
   },
   "source": [
    "## Read the data from the csv file"
   ]
  },
  {
   "cell_type": "code",
   "execution_count": 2,
   "id": "ce9cfec24f8dfc89",
   "metadata": {
    "ExecuteTime": {
     "end_time": "2024-01-16T08:18:37.690981600Z",
     "start_time": "2024-01-16T08:18:37.534154600Z"
    },
    "collapsed": false
   },
   "outputs": [
    {
     "data": {
      "text/html": [
       "<div>\n",
       "<style scoped>\n",
       "    .dataframe tbody tr th:only-of-type {\n",
       "        vertical-align: middle;\n",
       "    }\n",
       "\n",
       "    .dataframe tbody tr th {\n",
       "        vertical-align: top;\n",
       "    }\n",
       "\n",
       "    .dataframe thead th {\n",
       "        text-align: right;\n",
       "    }\n",
       "</style>\n",
       "<table border=\"1\" class=\"dataframe\">\n",
       "  <thead>\n",
       "    <tr style=\"text-align: right;\">\n",
       "      <th></th>\n",
       "      <th>id</th>\n",
       "      <th>latitude</th>\n",
       "      <th>longitude</th>\n",
       "      <th>pollution</th>\n",
       "      <th>traffic_level</th>\n",
       "      <th>wind_speed</th>\n",
       "      <th>pressure</th>\n",
       "      <th>temp</th>\n",
       "    </tr>\n",
       "  </thead>\n",
       "  <tbody>\n",
       "    <tr>\n",
       "      <th>0</th>\n",
       "      <td>9000000069</td>\n",
       "      <td>51.163864</td>\n",
       "      <td>4.828185</td>\n",
       "      <td>3.842857</td>\n",
       "      <td>62.32</td>\n",
       "      <td>7.20</td>\n",
       "      <td>1026.0</td>\n",
       "      <td>273.02</td>\n",
       "    </tr>\n",
       "    <tr>\n",
       "      <th>1</th>\n",
       "      <td>9000005034</td>\n",
       "      <td>51.130837</td>\n",
       "      <td>4.562922</td>\n",
       "      <td>10.712200</td>\n",
       "      <td>306.04</td>\n",
       "      <td>5.14</td>\n",
       "      <td>1028.0</td>\n",
       "      <td>273.10</td>\n",
       "    </tr>\n",
       "    <tr>\n",
       "      <th>2</th>\n",
       "      <td>9000000837</td>\n",
       "      <td>51.197985</td>\n",
       "      <td>4.478805</td>\n",
       "      <td>4.924336</td>\n",
       "      <td>129.32</td>\n",
       "      <td>7.20</td>\n",
       "      <td>1026.0</td>\n",
       "      <td>273.02</td>\n",
       "    </tr>\n",
       "    <tr>\n",
       "      <th>3</th>\n",
       "      <td>9000006159</td>\n",
       "      <td>51.235718</td>\n",
       "      <td>4.435498</td>\n",
       "      <td>13.448654</td>\n",
       "      <td>380.62</td>\n",
       "      <td>5.14</td>\n",
       "      <td>990.0</td>\n",
       "      <td>282.12</td>\n",
       "    </tr>\n",
       "    <tr>\n",
       "      <th>4</th>\n",
       "      <td>9000001420</td>\n",
       "      <td>51.162048</td>\n",
       "      <td>4.605056</td>\n",
       "      <td>3.481111</td>\n",
       "      <td>0.00</td>\n",
       "      <td>4.63</td>\n",
       "      <td>1027.0</td>\n",
       "      <td>272.57</td>\n",
       "    </tr>\n",
       "  </tbody>\n",
       "</table>\n",
       "</div>"
      ],
      "text/plain": [
       "           id   latitude  longitude  pollution  traffic_level  wind_speed  \\\n",
       "0  9000000069  51.163864   4.828185   3.842857          62.32        7.20   \n",
       "1  9000005034  51.130837   4.562922  10.712200         306.04        5.14   \n",
       "2  9000000837  51.197985   4.478805   4.924336         129.32        7.20   \n",
       "3  9000006159  51.235718   4.435498  13.448654         380.62        5.14   \n",
       "4  9000001420  51.162048   4.605056   3.481111           0.00        4.63   \n",
       "\n",
       "   pressure    temp  \n",
       "0    1026.0  273.02  \n",
       "1    1028.0  273.10  \n",
       "2    1026.0  273.02  \n",
       "3     990.0  282.12  \n",
       "4    1027.0  272.57  "
      ]
     },
     "execution_count": 2,
     "metadata": {},
     "output_type": "execute_result"
    }
   ],
   "source": [
    "data = pd.read_csv('data.csv', sep=',', decimal='.')\n",
    "data.head()"
   ]
  },
  {
   "cell_type": "markdown",
   "id": "bd4058982246553c",
   "metadata": {
    "collapsed": false
   },
   "source": [
    "## Insert a timestamp\n",
    "\n",
    "The data from the Azure database doesn't have a timestamp, which is a very important element for the timeseries forecasting that we will be using. So, we will create our own timestamp by taking the current time and subtracting it by 1 hour to give us an understanding of the evolution of the data."
   ]
  },
  {
   "cell_type": "code",
   "execution_count": 6,
   "id": "6954774aceb08b4a",
   "metadata": {
    "ExecuteTime": {
     "end_time": "2024-01-16T08:18:41.448012300Z",
     "start_time": "2024-01-16T08:18:41.394906900Z"
    },
    "collapsed": false
   },
   "outputs": [
    {
     "name": "stderr",
     "output_type": "stream",
     "text": [
      "C:\\Users\\bogda\\AppData\\Local\\Temp\\ipykernel_25492\\779135651.py:5: FutureWarning: 'T' is deprecated and will be removed in a future version, please use 'min' instead.\n",
      "  date_range_subtract = pd.date_range(start=start_time, periods=periods, freq='60T')\n"
     ]
    },
    {
     "data": {
      "text/html": [
       "<div>\n",
       "<style scoped>\n",
       "    .dataframe tbody tr th:only-of-type {\n",
       "        vertical-align: middle;\n",
       "    }\n",
       "\n",
       "    .dataframe tbody tr th {\n",
       "        vertical-align: top;\n",
       "    }\n",
       "\n",
       "    .dataframe thead th {\n",
       "        text-align: right;\n",
       "    }\n",
       "</style>\n",
       "<table border=\"1\" class=\"dataframe\">\n",
       "  <thead>\n",
       "    <tr style=\"text-align: right;\">\n",
       "      <th></th>\n",
       "      <th>id</th>\n",
       "      <th>latitude</th>\n",
       "      <th>longitude</th>\n",
       "      <th>pollution</th>\n",
       "      <th>traffic_level</th>\n",
       "      <th>wind_speed</th>\n",
       "      <th>pressure</th>\n",
       "      <th>temp</th>\n",
       "    </tr>\n",
       "    <tr>\n",
       "      <th>timestamp</th>\n",
       "      <th></th>\n",
       "      <th></th>\n",
       "      <th></th>\n",
       "      <th></th>\n",
       "      <th></th>\n",
       "      <th></th>\n",
       "      <th></th>\n",
       "      <th></th>\n",
       "    </tr>\n",
       "  </thead>\n",
       "  <tbody>\n",
       "    <tr>\n",
       "      <th>2024-05-03 16:21:40.902196</th>\n",
       "      <td>9000000069</td>\n",
       "      <td>51.163864</td>\n",
       "      <td>4.828185</td>\n",
       "      <td>3.842857</td>\n",
       "      <td>62.32</td>\n",
       "      <td>7.20</td>\n",
       "      <td>1026.0</td>\n",
       "      <td>273.02</td>\n",
       "    </tr>\n",
       "    <tr>\n",
       "      <th>2024-05-03 17:21:40.902196</th>\n",
       "      <td>9000005034</td>\n",
       "      <td>51.130837</td>\n",
       "      <td>4.562922</td>\n",
       "      <td>10.712200</td>\n",
       "      <td>306.04</td>\n",
       "      <td>5.14</td>\n",
       "      <td>1028.0</td>\n",
       "      <td>273.10</td>\n",
       "    </tr>\n",
       "    <tr>\n",
       "      <th>2024-05-03 18:21:40.902196</th>\n",
       "      <td>9000000837</td>\n",
       "      <td>51.197985</td>\n",
       "      <td>4.478805</td>\n",
       "      <td>4.924336</td>\n",
       "      <td>129.32</td>\n",
       "      <td>7.20</td>\n",
       "      <td>1026.0</td>\n",
       "      <td>273.02</td>\n",
       "    </tr>\n",
       "    <tr>\n",
       "      <th>2024-05-03 19:21:40.902196</th>\n",
       "      <td>9000006159</td>\n",
       "      <td>51.235718</td>\n",
       "      <td>4.435498</td>\n",
       "      <td>13.448654</td>\n",
       "      <td>380.62</td>\n",
       "      <td>5.14</td>\n",
       "      <td>990.0</td>\n",
       "      <td>282.12</td>\n",
       "    </tr>\n",
       "    <tr>\n",
       "      <th>2024-05-03 20:21:40.902196</th>\n",
       "      <td>9000001420</td>\n",
       "      <td>51.162048</td>\n",
       "      <td>4.605056</td>\n",
       "      <td>3.481111</td>\n",
       "      <td>0.00</td>\n",
       "      <td>4.63</td>\n",
       "      <td>1027.0</td>\n",
       "      <td>272.57</td>\n",
       "    </tr>\n",
       "    <tr>\n",
       "      <th>...</th>\n",
       "      <td>...</td>\n",
       "      <td>...</td>\n",
       "      <td>...</td>\n",
       "      <td>...</td>\n",
       "      <td>...</td>\n",
       "      <td>...</td>\n",
       "      <td>...</td>\n",
       "      <td>...</td>\n",
       "    </tr>\n",
       "    <tr>\n",
       "      <th>2027-11-16 00:21:40.902196</th>\n",
       "      <td>9000001873</td>\n",
       "      <td>51.062829</td>\n",
       "      <td>4.360969</td>\n",
       "      <td>18.838140</td>\n",
       "      <td>0.00</td>\n",
       "      <td>5.66</td>\n",
       "      <td>1002.0</td>\n",
       "      <td>281.42</td>\n",
       "    </tr>\n",
       "    <tr>\n",
       "      <th>2027-11-16 01:21:40.902196</th>\n",
       "      <td>9000003840</td>\n",
       "      <td>51.205491</td>\n",
       "      <td>4.467687</td>\n",
       "      <td>5.735327</td>\n",
       "      <td>158.01</td>\n",
       "      <td>3.60</td>\n",
       "      <td>1014.0</td>\n",
       "      <td>277.10</td>\n",
       "    </tr>\n",
       "    <tr>\n",
       "      <th>2027-11-16 02:21:40.902196</th>\n",
       "      <td>9000002881</td>\n",
       "      <td>51.132341</td>\n",
       "      <td>4.472705</td>\n",
       "      <td>9.878596</td>\n",
       "      <td>0.00</td>\n",
       "      <td>2.57</td>\n",
       "      <td>1009.0</td>\n",
       "      <td>277.37</td>\n",
       "    </tr>\n",
       "    <tr>\n",
       "      <th>2027-11-16 03:21:40.902196</th>\n",
       "      <td>9000002260</td>\n",
       "      <td>51.369962</td>\n",
       "      <td>4.461151</td>\n",
       "      <td>1.889167</td>\n",
       "      <td>0.00</td>\n",
       "      <td>4.12</td>\n",
       "      <td>1029.0</td>\n",
       "      <td>267.63</td>\n",
       "    </tr>\n",
       "    <tr>\n",
       "      <th>2027-11-16 04:21:40.902196</th>\n",
       "      <td>9000000023</td>\n",
       "      <td>51.034807</td>\n",
       "      <td>4.487884</td>\n",
       "      <td>87.393922</td>\n",
       "      <td>0.00</td>\n",
       "      <td>9.26</td>\n",
       "      <td>990.0</td>\n",
       "      <td>282.51</td>\n",
       "    </tr>\n",
       "  </tbody>\n",
       "</table>\n",
       "<p>30997 rows × 8 columns</p>\n",
       "</div>"
      ],
      "text/plain": [
       "                                    id   latitude  longitude  pollution  \\\n",
       "timestamp                                                                 \n",
       "2024-05-03 16:21:40.902196  9000000069  51.163864   4.828185   3.842857   \n",
       "2024-05-03 17:21:40.902196  9000005034  51.130837   4.562922  10.712200   \n",
       "2024-05-03 18:21:40.902196  9000000837  51.197985   4.478805   4.924336   \n",
       "2024-05-03 19:21:40.902196  9000006159  51.235718   4.435498  13.448654   \n",
       "2024-05-03 20:21:40.902196  9000001420  51.162048   4.605056   3.481111   \n",
       "...                                ...        ...        ...        ...   \n",
       "2027-11-16 00:21:40.902196  9000001873  51.062829   4.360969  18.838140   \n",
       "2027-11-16 01:21:40.902196  9000003840  51.205491   4.467687   5.735327   \n",
       "2027-11-16 02:21:40.902196  9000002881  51.132341   4.472705   9.878596   \n",
       "2027-11-16 03:21:40.902196  9000002260  51.369962   4.461151   1.889167   \n",
       "2027-11-16 04:21:40.902196  9000000023  51.034807   4.487884  87.393922   \n",
       "\n",
       "                            traffic_level  wind_speed  pressure    temp  \n",
       "timestamp                                                                \n",
       "2024-05-03 16:21:40.902196          62.32        7.20    1026.0  273.02  \n",
       "2024-05-03 17:21:40.902196         306.04        5.14    1028.0  273.10  \n",
       "2024-05-03 18:21:40.902196         129.32        7.20    1026.0  273.02  \n",
       "2024-05-03 19:21:40.902196         380.62        5.14     990.0  282.12  \n",
       "2024-05-03 20:21:40.902196           0.00        4.63    1027.0  272.57  \n",
       "...                                   ...         ...       ...     ...  \n",
       "2027-11-16 00:21:40.902196           0.00        5.66    1002.0  281.42  \n",
       "2027-11-16 01:21:40.902196         158.01        3.60    1014.0  277.10  \n",
       "2027-11-16 02:21:40.902196           0.00        2.57    1009.0  277.37  \n",
       "2027-11-16 03:21:40.902196           0.00        4.12    1029.0  267.63  \n",
       "2027-11-16 04:21:40.902196           0.00        9.26     990.0  282.51  \n",
       "\n",
       "[30997 rows x 8 columns]"
      ]
     },
     "execution_count": 6,
     "metadata": {},
     "output_type": "execute_result"
    }
   ],
   "source": [
    "current_time = datetime.datetime.now()\n",
    "periods = len(data)\n",
    "\n",
    "start_time = current_time - pd.Timedelta(minutes=5 * (periods - 1))\n",
    "date_range_subtract = pd.date_range(start=start_time, periods=periods, freq='60T')\n",
    "\n",
    "data['timestamp'] = date_range_subtract\n",
    "data.set_index('timestamp', inplace=True)\n",
    "data.sort_index(inplace=True)\n",
    "\n",
    "data"
   ]
  },
  {
   "cell_type": "markdown",
   "id": "f6abf1a98743ff42",
   "metadata": {
    "collapsed": false
   },
   "source": [
    "## Handle missing values"
   ]
  },
  {
   "cell_type": "code",
   "execution_count": 7,
   "id": "7545434f70e5b8fb",
   "metadata": {
    "ExecuteTime": {
     "end_time": "2024-01-16T08:18:45.691560200Z",
     "start_time": "2024-01-16T08:18:45.664545800Z"
    },
    "collapsed": false
   },
   "outputs": [
    {
     "data": {
      "text/plain": [
       "id               0\n",
       "latitude         0\n",
       "longitude        0\n",
       "pollution        0\n",
       "traffic_level    0\n",
       "wind_speed       0\n",
       "pressure         0\n",
       "temp             0\n",
       "dtype: int64"
      ]
     },
     "execution_count": 7,
     "metadata": {},
     "output_type": "execute_result"
    }
   ],
   "source": [
    "data.fillna(data.mean(), inplace=True)\n",
    "data.isnull().sum()"
   ]
  },
  {
   "cell_type": "markdown",
   "id": "1d54e3caaf63983",
   "metadata": {
    "collapsed": false
   },
   "source": [
    "## Remove duplicates and outliers\n",
    "\n",
    "To make sure the data is clean, and that there is not skewed analysis we will remove any duplicates and outliers."
   ]
  },
  {
   "cell_type": "code",
   "execution_count": 8,
   "id": "49cafaa9da7e03b4",
   "metadata": {
    "ExecuteTime": {
     "end_time": "2024-01-16T08:18:56.997563600Z",
     "start_time": "2024-01-16T08:18:56.959236Z"
    },
    "collapsed": false
   },
   "outputs": [
    {
     "data": {
      "text/plain": [
       "0"
      ]
     },
     "execution_count": 8,
     "metadata": {},
     "output_type": "execute_result"
    }
   ],
   "source": [
    "data.drop_duplicates(inplace=True)\n",
    "data.duplicated().sum()"
   ]
  },
  {
   "cell_type": "markdown",
   "id": "f36a4285",
   "metadata": {},
   "source": [
    "## Save the clean data to a new CSV file"
   ]
  },
  {
   "cell_type": "code",
   "execution_count": 9,
   "id": "a789c441",
   "metadata": {},
   "outputs": [],
   "source": [
    "data.to_csv('clean-data.csv')"
   ]
  }
 ],
 "metadata": {
  "kernelspec": {
   "display_name": "Python 3",
   "language": "python",
   "name": "python3"
  },
  "language_info": {
   "codemirror_mode": {
    "name": "ipython",
    "version": 3
   },
   "file_extension": ".py",
   "mimetype": "text/x-python",
   "name": "python",
   "nbconvert_exporter": "python",
   "pygments_lexer": "ipython3",
   "version": "3.11.5"
  }
 },
 "nbformat": 4,
 "nbformat_minor": 5
}
