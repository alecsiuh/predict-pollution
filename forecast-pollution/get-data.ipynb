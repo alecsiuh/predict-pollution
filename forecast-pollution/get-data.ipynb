{
 "cells": [
  {
   "cell_type": "markdown",
   "id": "b7654450552337d7",
   "metadata": {
    "collapsed": false
   },
   "source": [
    "# Imports"
   ]
  },
  {
   "cell_type": "code",
   "execution_count": 1,
   "id": "initial_id",
   "metadata": {
    "ExecuteTime": {
     "end_time": "2024-01-13T21:23:02.543795300Z",
     "start_time": "2024-01-13T21:23:02.521152600Z"
    },
    "collapsed": true
   },
   "outputs": [],
   "source": [
    "import csv\n",
    "import mysql.connector\n",
    "from mysql.connector import errorcode"
   ]
  },
  {
   "cell_type": "markdown",
   "id": "9ac885cf28fd9c7f",
   "metadata": {
    "collapsed": false
   },
   "source": [
    "## Store the fetched data in a csv file\n",
    "\n",
    "Create a method the takes the pulled data from the Azure database and adds it to a CSV file, so that it can easily be used in the Python project."
   ]
  },
  {
   "cell_type": "code",
   "execution_count": 2,
   "id": "678d0e00dc3ceab5",
   "metadata": {
    "ExecuteTime": {
     "end_time": "2024-01-12T22:50:10.133070Z",
     "start_time": "2024-01-12T22:50:10.111244800Z"
    },
    "collapsed": false
   },
   "outputs": [],
   "source": [
    "def write_to_csv(headers, rows):\n",
    "    with open('data.csv', mode='a', newline='') as file:\n",
    "        writer = csv.writer(file)\n",
    "        writer.writerow(headers)\n",
    "        writer.writerow(rows)"
   ]
  },
  {
   "cell_type": "markdown",
   "id": "72991f4d4e7623b4",
   "metadata": {
    "collapsed": false
   },
   "source": [
    "## Connect to the Azure Database for MySQL - Flexible Server\n",
    "\n",
    "#### Obtain connection string information from the portal"
   ]
  },
  {
   "cell_type": "code",
   "execution_count": 2,
   "id": "cc86e90a86be3cd",
   "metadata": {
    "ExecuteTime": {
     "end_time": "2024-01-12T22:50:13.777578Z",
     "start_time": "2024-01-12T22:50:13.756253200Z"
    },
    "collapsed": false
   },
   "outputs": [],
   "source": [
    "config = {\n",
    "    'host': 'ba-db.mysql.database.azure.com',\n",
    "    'user': 'ba_user',\n",
    "    'password': 'Pass1234',\n",
    "    'database': 'data-extractor'\n",
    "}"
   ]
  },
  {
   "cell_type": "markdown",
   "id": "9f425b07c0cd5ba3",
   "metadata": {
    "collapsed": false
   },
   "source": [
    "#### Construct connection string\n",
    "\n",
    "This method is provided by the Azure documentation."
   ]
  },
  {
   "cell_type": "code",
   "execution_count": null,
   "id": "45cffa526b67424c",
   "metadata": {
    "ExecuteTime": {
     "end_time": "2024-01-12T22:50:16.675119Z",
     "start_time": "2024-01-12T22:50:15.500702600Z"
    },
    "collapsed": false
   },
   "outputs": [],
   "source": [
    "try:\n",
    "    conn = mysql.connector.connect(**config)\n",
    "    print(\"Connection established\")\n",
    "except mysql.connector.Error as err:\n",
    "    if err.errno == errorcode.ER_ACCESS_DENIED_ERROR:\n",
    "        print(\"Something is wrong with the user name or password\")\n",
    "    elif err.errno == errorcode.ER_BAD_DB_ERROR:\n",
    "        print(\"Database does not exist\")\n",
    "    else:\n",
    "        print(err)\n",
    "else:\n",
    "    cursor = conn.cursor()\n",
    "\n",
    "    # Read data\n",
    "    cursor.execute(\n",
    "        \"SELECT latitude, longitude, pollution, traffic_level, wind_speed, pressure, temp FROM areas_of_interest\")\n",
    "    rows = cursor.fetchall()\n",
    "    print(\"Read\", cursor.rowcount, \"row(s) of data.\")\n",
    "\n",
    "    # Extract column headers from the cursor\n",
    "    headers = [i[0] for i in cursor.description]\n",
    "\n",
    "    # Process and write data to CSV\n",
    "    write_to_csv(headers, rows)\n",
    "\n",
    "    # Print all rows\n",
    "    for row in rows:\n",
    "        print(\"Data row = (%s, %s, %s)\" % (str(row[0]), str(row[1]), str(row[2])))\n",
    "\n",
    "    # Cleanup\n",
    "    conn.commit()\n",
    "    cursor.close()\n",
    "    conn.close()\n",
    "    print(\"Done.\")"
   ]
  }
 ],
 "metadata": {
  "kernelspec": {
   "display_name": "Python 3",
   "language": "python",
   "name": "python3"
  },
  "language_info": {
   "codemirror_mode": {
    "name": "ipython",
    "version": 3
   },
   "file_extension": ".py",
   "mimetype": "text/x-python",
   "name": "python",
   "nbconvert_exporter": "python",
   "pygments_lexer": "ipython3",
   "version": "3.11.5"
  }
 },
 "nbformat": 4,
 "nbformat_minor": 5
}
